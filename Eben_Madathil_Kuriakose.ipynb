{
 "cells": [
  {
   "cell_type": "code",
   "execution_count": 1,
   "id": "29c035c7-9fc2-421c-9346-8f201c963702",
   "metadata": {},
   "outputs": [],
   "source": [
    "import pandas as pd\n",
    "\n",
    "# Load the data files (make sure to adjust paths if needed)\n",
    "clearer_data = pd.read_excel(\"clearer_trade_data.xlsx\")\n",
    "internal_data = pd.read_excel(\"internal_trade_data.xlsx\")\n"
   ]
  },
  {
   "cell_type": "code",
   "execution_count": 2,
   "id": "d4734864-7dd2-4dbe-96ef-8c7ba9ba7215",
   "metadata": {},
   "outputs": [
    {
     "name": "stdout",
     "output_type": "stream",
     "text": [
      "Clearer Trade Data:\n",
      "  delivery_month  quantity_mwh  price_eur_per_mwh\n",
      "0        2025-03           100               30.0\n",
      "1        2025-04           500               32.0\n",
      "2        2025-05           550               32.5\n",
      "3        2025-06           300               33.0\n",
      "\n",
      "Internal Trade Data:\n",
      "   trade_id     contract_type contract_period  quantity_mwh  price_eur_per_mwh\n",
      "0         1          Outright         2025-03           100                 30\n",
      "1         2          Outright         2025-04           200                 31\n",
      "2         3          Outright         2025-05           250                 32\n",
      "3         4  Outright Quarter            Q225           300                 33\n"
     ]
    }
   ],
   "source": [
    "# Quick look at data to make sure it loaded correctly\n",
    "print(\"Clearer Trade Data:\")\n",
    "print(clearer_data)\n",
    "print(\"\\nInternal Trade Data:\")\n",
    "print(internal_data)\n"
   ]
  },
  {
   "cell_type": "code",
   "execution_count": 3,
   "id": "e5a04d3d-8c34-4717-8c93-7573f6fd9502",
   "metadata": {},
   "outputs": [
    {
     "name": "stdout",
     "output_type": "stream",
     "text": [
      "\n",
      "Internal Trades After Splitting Quarterly Contract:\n",
      "     contract_type contract_period  quantity_mwh  price_eur_per_mwh\n",
      "0  Quarterly Split         2025-04         100.0                 33\n",
      "1  Quarterly Split         2025-05         100.0                 33\n",
      "2  Quarterly Split         2025-06         100.0                 33\n"
     ]
    }
   ],
   "source": [
    "# Identify the quarterly trade in internal data\n",
    "quarterly = internal_data[internal_data[\"contract_type\"] == \"Outright Quarter\"].iloc[0]\n",
    "\n",
    "# Break down the quarterly trade (Q225 = April, May, June)\n",
    "# Quarterly quantity and price split equally over 3 months\n",
    "monthly_splits = [\n",
    "    {\"contract_type\": \"Quarterly Split\", \"contract_period\": \"2025-04\", \"quantity_mwh\": quarterly[\"quantity_mwh\"] / 3, \"price_eur_per_mwh\": quarterly[\"price_eur_per_mwh\"]},\n",
    "    {\"contract_type\": \"Quarterly Split\", \"contract_period\": \"2025-05\", \"quantity_mwh\": quarterly[\"quantity_mwh\"] / 3, \"price_eur_per_mwh\": quarterly[\"price_eur_per_mwh\"]},\n",
    "    {\"contract_type\": \"Quarterly Split\", \"contract_period\": \"2025-06\", \"quantity_mwh\": quarterly[\"quantity_mwh\"] / 3, \"price_eur_per_mwh\": quarterly[\"price_eur_per_mwh\"]}\n",
    "]\n",
    "\n",
    "# Convert list to DataFrame and add to internal trades\n",
    "split_df = pd.DataFrame(monthly_splits)\n",
    "#internal_expanded = pd.concat([internal_data, split_df], ignore_index=True)\n",
    "\n",
    "print(\"\\nInternal Trades After Splitting Quarterly Contract:\")\n",
    "print(split_df)"
   ]
  },
  {
   "cell_type": "code",
   "execution_count": 23,
   "id": "f30f028a-e7bd-493c-a18e-4b817027f574",
   "metadata": {},
   "outputs": [
    {
     "name": "stdout",
     "output_type": "stream",
     "text": [
      "\n",
      "Netted Internal Positions (Monthly):\n",
      "  delivery_month  quantity_mwh  price_eur_per_mwh\n",
      "0        2025-03         100.0          30.000000\n",
      "1        2025-04         300.0          31.666667\n",
      "2        2025-05         350.0          32.285714\n",
      "3        2025-06         100.0          33.000000\n"
     ]
    },
    {
     "name": "stderr",
     "output_type": "stream",
     "text": [
      "/var/folders/8f/py5g_g5x13bgvy8qp4dtr0c40000gn/T/ipykernel_75836/1766594769.py:14: FutureWarning: DataFrameGroupBy.apply operated on the grouping columns. This behavior is deprecated, and in a future version of pandas the grouping columns will be excluded from the operation. Either pass `include_groups=False` to exclude the groupings or explicitly select the grouping columns after groupby to silence this warning.\n",
      "  price_by_month = internal_expanded.groupby('contract_period').apply(calc_weighted_avg)\n"
     ]
    }
   ],
   "source": [
    "#Calculate net quantities and weighted average prices per month\n",
    "\n",
    "# Clean up any whitespace in column names\n",
    "internal_expanded.columns = internal_expanded.columns.str.strip()\n",
    "\n",
    "def calc_weighted_avg(group):\n",
    "    total_qty = group['quantity_mwh'].sum()\n",
    "    if total_qty == 0:\n",
    "        return 0\n",
    "    return (group['quantity_mwh'] * group['price_eur_per_mwh']).sum() / total_qty\n",
    "\n",
    "# Sum quantities and compute weighted average prices grouped by month\n",
    "qty_by_month = internal_expanded.groupby('contract_period')['quantity_mwh'].sum()\n",
    "price_by_month = internal_expanded.groupby('contract_period').apply(calc_weighted_avg)\n",
    "\n",
    "# Combine results into a single DataFrame\n",
    "internal_summary = pd.DataFrame({\n",
    "    'quantity_mwh': qty_by_month,\n",
    "    'price_eur_per_mwh': price_by_month\n",
    "}).reset_index().rename(columns={'contract_period': 'delivery_month'})\n",
    "\n",
    "# Make sure all months of interest are included\n",
    "months_of_interest = pd.DataFrame({'delivery_month': ['2025-03', '2025-04', '2025-05', '2025-06']})\n",
    "\n",
    "internal_summary = months_of_interest.merge(internal_summary, on='delivery_month', how='left').fillna(0)\n",
    "\n",
    "print(\"\\nNetted Internal Positions (Monthly):\")\n",
    "print(internal_summary)"
   ]
  },
  {
   "cell_type": "code",
   "execution_count": 24,
   "id": "7137a384-dee4-43c5-b854-ceba0279c464",
   "metadata": {},
   "outputs": [
    {
     "name": "stdout",
     "output_type": "stream",
     "text": [
      "\n",
      "Final Reconciliation Table:\n",
      "  delivery_month  quantity_mwh_clearer  price_eur_per_mwh_clearer  \\\n",
      "0        2025-03                   100                       30.0   \n",
      "1        2025-04                   500                       32.0   \n",
      "2        2025-05                   550                       32.5   \n",
      "3        2025-06                   300                       33.0   \n",
      "\n",
      "   quantity_mwh_internal  price_eur_per_mwh_internal  quantity_diff  \\\n",
      "0                  100.0                   30.000000            0.0   \n",
      "1                  300.0                   31.666667         -200.0   \n",
      "2                  350.0                   32.285714         -200.0   \n",
      "3                  100.0                   33.000000         -200.0   \n",
      "\n",
      "   price_diff    status  \n",
      "0    0.000000     Match  \n",
      "1   -0.333333  Mismatch  \n",
      "2   -0.214286  Mismatch  \n",
      "3    0.000000  Mismatch  \n"
     ]
    }
   ],
   "source": [
    "# Compare internal data with clearer's monthly trades\n",
    "\n",
    "# Merge clearer data and internal summary on delivery_month\n",
    "reconciliation = pd.merge(\n",
    "    clearer_data,\n",
    "    internal_summary,\n",
    "    on='delivery_month',\n",
    "    how='outer',\n",
    "    suffixes=('_clearer', '_internal')\n",
    ")\n",
    "\n",
    "# Calculate difference in quantity and price for reconciliation check\n",
    "reconciliation['quantity_diff'] = reconciliation['quantity_mwh_internal'] - reconciliation['quantity_mwh_clearer']\n",
    "reconciliation['price_diff'] = reconciliation['price_eur_per_mwh_internal'] - reconciliation['price_eur_per_mwh_clearer']\n",
    "\n",
    "# Mark rows as 'Match' or 'Mismatch' based on differences\n",
    "tolerance = 0.01  # small tolerance to avoid floating point issues\n",
    "reconciliation['status'] = 'Match'\n",
    "reconciliation.loc[\n",
    "    (reconciliation['quantity_diff'].abs() > tolerance) | (reconciliation['price_diff'].abs() > tolerance),\n",
    "    'status'\n",
    "] = 'Mismatch'\n",
    "\n",
    "print(\"\\nFinal Reconciliation Table:\")\n",
    "print(reconciliation)"
   ]
  },
  {
   "cell_type": "code",
   "execution_count": null,
   "id": "5f33762c-53bd-4fc3-9da9-dc1ab0452ec4",
   "metadata": {},
   "outputs": [],
   "source": []
  }
 ],
 "metadata": {
  "kernelspec": {
   "display_name": "Python 3 (ipykernel)",
   "language": "python",
   "name": "python3"
  },
  "language_info": {
   "codemirror_mode": {
    "name": "ipython",
    "version": 3
   },
   "file_extension": ".py",
   "mimetype": "text/x-python",
   "name": "python",
   "nbconvert_exporter": "python",
   "pygments_lexer": "ipython3",
   "version": "3.13.2"
  }
 },
 "nbformat": 4,
 "nbformat_minor": 5
}
